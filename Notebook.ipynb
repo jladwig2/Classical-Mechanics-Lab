{
 "cells": [
  {
   "cell_type": "code",
   "execution_count": 1,
   "id": "6fd74aa8-7237-46b4-99d8-14b2a4ec69cf",
   "metadata": {},
   "outputs": [],
   "source": [
    "import pandas as pd\n",
    "import numpy as np\n",
    "from scipy.optimize import curve_fit\n",
    "import matplotlib.pyplot as plt\n",
    "%matplotlib inline"
   ]
  },
  {
   "cell_type": "markdown",
   "id": "e43bf75b-c0b8-4a4d-b1ba-5338f243d6a1",
   "metadata": {},
   "source": [
    "# Attempt with Soccer Ball"
   ]
  },
  {
   "cell_type": "markdown",
   "id": "9bb083ef-dc3b-42f3-818e-98ed63c8a329",
   "metadata": {},
   "source": [
    "### Measurements"
   ]
  },
  {
   "cell_type": "markdown",
   "id": "30634d2d-2316-4835-b1b2-e5cb24673737",
   "metadata": {},
   "source": [
    "Error Propagation: $$c=2\\pi r; dr=\\frac{dc}{2\\pi};A=\\pi r^2; dA=2\\pi rdr; V=\\frac{4}{3}\\pi r^3; dV=4\\pi r^2dr$$"
   ]
  },
  {
   "cell_type": "code",
   "execution_count": 5,
   "id": "8bfc3cec-884d-496f-8901-2666f4db88d6",
   "metadata": {},
   "outputs": [],
   "source": [
    "m=0.8398; dm=0.1*10**(-3)\n",
    "circ=0.626; dcirc=0.001; r=circ/2/np.pi; dr=dcirc/2/np.pi\n",
    "A=np.pi*(r)**2; dA=(r)*dcirc\n",
    "V=4/3*np.pi*(r)**3; dV=4*np.pi*r**2*dr"
   ]
  },
  {
   "cell_type": "markdown",
   "id": "9d31f2b6-d68b-41e2-9b46-db63fcf2787c",
   "metadata": {},
   "source": [
    "We will use the following measurements to estimate the air density: \n",
    "\n",
    "Pressure: $989 \\pm 5 \\ (hPa)$\n",
    "\n",
    "Temperature: $23 \\pm 3 \\ (^\\circ C)$\n",
    "\n",
    "Tool used: https://www.omnicalculator.com/physics/air-density"
   ]
  },
  {
   "cell_type": "code",
   "execution_count": 7,
   "id": "594c5bf6-1e6a-47d9-957d-f25fca28539c",
   "metadata": {},
   "outputs": [],
   "source": [
    "g=9.806\n",
    "rho_air=1.17; drho_air=0.02"
   ]
  },
  {
   "cell_type": "markdown",
   "id": "4cd5804e-c0bc-49cc-8ebe-6d1cc6d4aa9c",
   "metadata": {},
   "source": [
    "### Data Analysis"
   ]
  },
  {
   "cell_type": "code",
   "execution_count": 9,
   "id": "2eec01df-bd45-42aa-a12a-acac9b0d808f",
   "metadata": {},
   "outputs": [
    {
     "data": {
      "text/html": [
       "<div>\n",
       "<style scoped>\n",
       "    .dataframe tbody tr th:only-of-type {\n",
       "        vertical-align: middle;\n",
       "    }\n",
       "\n",
       "    .dataframe tbody tr th {\n",
       "        vertical-align: top;\n",
       "    }\n",
       "\n",
       "    .dataframe thead th {\n",
       "        text-align: right;\n",
       "    }\n",
       "</style>\n",
       "<table border=\"1\" class=\"dataframe\">\n",
       "  <thead>\n",
       "    <tr style=\"text-align: right;\">\n",
       "      <th></th>\n",
       "      <th>Data Set 1:Time(s)</th>\n",
       "      <th>Data Set 1:X-axis acceleration(m/s)</th>\n",
       "      <th>Data Set 1:Y-axis acceleration(m/s)</th>\n",
       "      <th>Data Set 1:Z-axis acceleration(m/s)</th>\n",
       "      <th>Data Set 1:Altitude(m)</th>\n",
       "    </tr>\n",
       "  </thead>\n",
       "  <tbody>\n",
       "    <tr>\n",
       "      <th>0</th>\n",
       "      <td>0.00</td>\n",
       "      <td>-1.552783</td>\n",
       "      <td>-9.292758</td>\n",
       "      <td>2.578076</td>\n",
       "      <td>26.996113</td>\n",
       "    </tr>\n",
       "    <tr>\n",
       "      <th>1</th>\n",
       "      <td>0.02</td>\n",
       "      <td>-1.773050</td>\n",
       "      <td>-9.235297</td>\n",
       "      <td>2.937206</td>\n",
       "      <td>NaN</td>\n",
       "    </tr>\n",
       "    <tr>\n",
       "      <th>2</th>\n",
       "      <td>0.04</td>\n",
       "      <td>-1.567149</td>\n",
       "      <td>-9.264028</td>\n",
       "      <td>3.507026</td>\n",
       "      <td>NaN</td>\n",
       "    </tr>\n",
       "    <tr>\n",
       "      <th>3</th>\n",
       "      <td>0.06</td>\n",
       "      <td>-1.423496</td>\n",
       "      <td>-9.129952</td>\n",
       "      <td>4.028963</td>\n",
       "      <td>NaN</td>\n",
       "    </tr>\n",
       "    <tr>\n",
       "      <th>4</th>\n",
       "      <td>0.08</td>\n",
       "      <td>-1.184076</td>\n",
       "      <td>-9.206567</td>\n",
       "      <td>3.085647</td>\n",
       "      <td>NaN</td>\n",
       "    </tr>\n",
       "    <tr>\n",
       "      <th>...</th>\n",
       "      <td>...</td>\n",
       "      <td>...</td>\n",
       "      <td>...</td>\n",
       "      <td>...</td>\n",
       "      <td>...</td>\n",
       "    </tr>\n",
       "    <tr>\n",
       "      <th>480</th>\n",
       "      <td>9.60</td>\n",
       "      <td>-0.671717</td>\n",
       "      <td>-4.863486</td>\n",
       "      <td>5.776730</td>\n",
       "      <td>20.377216</td>\n",
       "    </tr>\n",
       "    <tr>\n",
       "      <th>481</th>\n",
       "      <td>9.62</td>\n",
       "      <td>-1.773050</td>\n",
       "      <td>-4.274512</td>\n",
       "      <td>7.797436</td>\n",
       "      <td>NaN</td>\n",
       "    </tr>\n",
       "    <tr>\n",
       "      <th>482</th>\n",
       "      <td>9.64</td>\n",
       "      <td>-3.314916</td>\n",
       "      <td>-4.911370</td>\n",
       "      <td>8.276277</td>\n",
       "      <td>NaN</td>\n",
       "    </tr>\n",
       "    <tr>\n",
       "      <th>483</th>\n",
       "      <td>9.66</td>\n",
       "      <td>-4.258232</td>\n",
       "      <td>-8.177060</td>\n",
       "      <td>12.533167</td>\n",
       "      <td>NaN</td>\n",
       "    </tr>\n",
       "    <tr>\n",
       "      <th>484</th>\n",
       "      <td>9.68</td>\n",
       "      <td>-4.617362</td>\n",
       "      <td>-10.125940</td>\n",
       "      <td>16.770905</td>\n",
       "      <td>NaN</td>\n",
       "    </tr>\n",
       "  </tbody>\n",
       "</table>\n",
       "<p>485 rows × 5 columns</p>\n",
       "</div>"
      ],
      "text/plain": [
       "     Data Set 1:Time(s)  Data Set 1:X-axis acceleration(m/s)  \\\n",
       "0                  0.00                            -1.552783   \n",
       "1                  0.02                            -1.773050   \n",
       "2                  0.04                            -1.567149   \n",
       "3                  0.06                            -1.423496   \n",
       "4                  0.08                            -1.184076   \n",
       "..                  ...                                  ...   \n",
       "480                9.60                            -0.671717   \n",
       "481                9.62                            -1.773050   \n",
       "482                9.64                            -3.314916   \n",
       "483                9.66                            -4.258232   \n",
       "484                9.68                            -4.617362   \n",
       "\n",
       "     Data Set 1:Y-axis acceleration(m/s)  Data Set 1:Z-axis acceleration(m/s)  \\\n",
       "0                              -9.292758                             2.578076   \n",
       "1                              -9.235297                             2.937206   \n",
       "2                              -9.264028                             3.507026   \n",
       "3                              -9.129952                             4.028963   \n",
       "4                              -9.206567                             3.085647   \n",
       "..                                   ...                                  ...   \n",
       "480                            -4.863486                             5.776730   \n",
       "481                            -4.274512                             7.797436   \n",
       "482                            -4.911370                             8.276277   \n",
       "483                            -8.177060                            12.533167   \n",
       "484                           -10.125940                            16.770905   \n",
       "\n",
       "     Data Set 1:Altitude(m)  \n",
       "0                 26.996113  \n",
       "1                       NaN  \n",
       "2                       NaN  \n",
       "3                       NaN  \n",
       "4                       NaN  \n",
       "..                      ...  \n",
       "480               20.377216  \n",
       "481                     NaN  \n",
       "482                     NaN  \n",
       "483                     NaN  \n",
       "484                     NaN  \n",
       "\n",
       "[485 rows x 5 columns]"
      ]
     },
     "execution_count": 9,
     "metadata": {},
     "output_type": "execute_result"
    }
   ],
   "source": [
    "alldata=pd.read_excel(\"data/trial5.xlsx\")\n",
    "alldata"
   ]
  },
  {
   "cell_type": "code",
   "execution_count": 10,
   "id": "86dec6c3-7e7f-4417-a6c9-15249da50a4c",
   "metadata": {},
   "outputs": [],
   "source": [
    "namex=\"Data Set 1:X-axis acceleration(m/s)\"; namey=\"Data Set 1:Y-axis acceleration(m/s)\";namez=\"Data Set 1:Z-axis acceleration(m/s)\";\n",
    "namet=\"Data Set 1:Time(s)\""
   ]
  },
  {
   "cell_type": "code",
   "execution_count": 11,
   "id": "e36f0611-4cc1-4f1b-be10-6b335407fe51",
   "metadata": {},
   "outputs": [],
   "source": [
    "acc_abs_alldata=np.sqrt((alldata[namex])**2+(alldata[namey])**2+(alldata[namez])**2)\n",
    "plt.plot(alldata[namet],acc_abs_alldata,\"o\")\n",
    "plt.xlim([0,6])\n",
    "plt.ylim([0,12]); plt.xlabel(\"Time (s)\"); _=plt.ylabel(\"Absolute Acceleration with g (m/s^2)\")"
   ]
  },
  {
   "cell_type": "markdown",
   "id": "6030cf7a-1f8e-4bd2-83dc-27fc74fd0d67",
   "metadata": {},
   "source": [
    "We will extract, from the data at rest, $a_{x,rest},a_{y,rest},a_{z,rest}$ and their corresponding uncertainties. Then we will calculate $$a=\\sqrt{(a_x-a_{x,rest})^2+(a_y-a_{y,rest})^2+(a_z-a_{z,rest})^2},$$ which gives the absolute acceleration without $g$ (near $0$ when at rest). Since the accelerometer has degree of uncertainty much smaller than other errors, we will neglect the errors in $a_x, a_y, a_z$, and consider only the uncertainties in the directional accelerations at rest, given by their standard error.\n",
    "$$da=\\sqrt{\\frac{((a_x-a_{x,rest})da_{x,rest})^2+((a_y-a_{y,rest})da_{y,rest})^2+((a_z-a_{z,rest})da_{z,rest})^2}{(a_x-a_{x,rest})^2+(a_y-a_{y,rest})^2+(a_z-a_{z,rest})^2}}.$$ Note that there is also minimal uncertainty in time. We estimate that the error in the choice of time for the starting point of the drop is about $0.1 s$ (I will not present this error for the upcoming graphs)."
   ]
  },
  {
   "cell_type": "code",
   "execution_count": 13,
   "id": "940f5763-78cf-4212-bc6f-2d2e2eb7729a",
   "metadata": {},
   "outputs": [],
   "source": [
    "rest_cuts=(alldata[namet]>2.5)&(alldata[namet]<3.6)\n",
    "mean_rest_xacc=alldata[namex][rest_cuts].mean()\n",
    "mean_rest_yacc=alldata[namey][rest_cuts].mean()\n",
    "mean_rest_zacc=alldata[namez][rest_cuts].mean()\n",
    "\n",
    "mean_rest_xaccerr=alldata[namex][rest_cuts].std()/np.sqrt(len(alldata[namex][rest_cuts]))\n",
    "mean_rest_yaccerr=alldata[namey][rest_cuts].std()/np.sqrt(len(alldata[namey][rest_cuts]))\n",
    "mean_rest_zaccerr=alldata[namez][rest_cuts].std()/np.sqrt(len(alldata[namez][rest_cuts]))\n",
    "\n",
    "t_0=3.9; t_1=4.7;\n",
    "dt=0.1\n",
    "drop_cuts=(alldata[namet]>t_0)&(alldata[namet]<t_1)\n",
    "data=alldata[drop_cuts]; time=data[namet];\n",
    "xacc_withg=data[namex]; yacc_withg=data[namey]; zacc_withg=data[namez]\n",
    "\n",
    "xacc=[xacc_withg[i]-mean_rest_xacc for i in range(data.index[0],data.index[-1]+1)]\n",
    "yacc=[yacc_withg[i]-mean_rest_yacc for i in range(data.index[0],data.index[-1]+1)]\n",
    "zacc=[zacc_withg[i]-mean_rest_zacc for i in range(data.index[0],data.index[-1]+1)]\n",
    "\n",
    "acc=[np.sqrt(xacc[i]**2+yacc[i]**2+zacc[i]**2) for i in range(len(xacc))]\n",
    "dacc=[np.sqrt(((xacc[i]*mean_rest_xaccerr)**2+(yacc[i]*mean_rest_yaccerr)**2+(zacc[i]*mean_rest_zaccerr)**2))/(acc[i]) \n",
    "      for i in range(len(xacc))]\n",
    "\n",
    "_=plt.errorbar(time,acc,yerr=dacc,fmt=\"o\"); plt.xlabel(\"Time (s)\"); _=plt.ylabel(\"Acceleration (m/s^2)\")"
   ]
  },
  {
   "cell_type": "markdown",
   "id": "e465b18e-8994-4645-aad4-62fc5852b0c6",
   "metadata": {},
   "source": [
    "We integrate for velocity: $$v(t)=\\int_{t_0}^t a(t')dt'.$$ Error propagating, we get $$dv(t)=a(t)dt.$$"
   ]
  },
  {
   "cell_type": "code",
   "execution_count": 15,
   "id": "3055f5ce-cda2-44e4-b9d4-e1e986e39432",
   "metadata": {},
   "outputs": [],
   "source": [
    "vel=[]\n",
    "for i in range(1,len(time)):\n",
    "    a=acc[:i]; t=time[:i] \n",
    "    vel.append(np.trapz(a,t)) \n",
    "\n",
    "dvel=[acc[i]*dt for i in range(1,len(time))]\n",
    "\n",
    "_=plt.errorbar(time[1:],vel,yerr=dvel,fmt=\"o\") \n",
    "_=plt.xlabel(\"Time (s)\"); _=plt.ylabel(\"Velocity (m/s)\");"
   ]
  },
  {
   "cell_type": "markdown",
   "id": "8963a39c-d323-415d-bd07-f330f6ca3205",
   "metadata": {},
   "source": [
    "By Newton's Second Law, $$ma=mg-F_D-F_B \\implies F_D=m(g-a)-F_B=m(g-a)-\\rho_{air}Vg.$$"
   ]
  },
  {
   "cell_type": "markdown",
   "id": "2f8f324d-c352-482e-9f34-5dc263439da2",
   "metadata": {},
   "source": [
    "Error propagating: $$dF_D=\\sqrt{(mda)^2+(Vgd\\rho_{air})^2+(\\rho_{air}gdV)^2}.$$ The drag force will be graphed against the velocity squared, which has error $$d(v^2)=2vdv.$$"
   ]
  },
  {
   "cell_type": "code",
   "execution_count": 18,
   "id": "0a920cf4-443c-47ac-8390-82df60fb6f2d",
   "metadata": {},
   "outputs": [],
   "source": [
    "m=0.8398\n",
    "g=9.806\n",
    "\n",
    "Drag=[m*(g-acc[i])-rho_air*V*g for i in range(1,len(time))]\n",
    "dDrag=[np.sqrt((m*dacc[i])**2+(V*g*drho_air)**2+(rho_air*g*dV)) for i in range(1,len(time))]\n",
    "\n",
    "v_sq=[vel[i]**2 for i in range(len(vel))]\n",
    "dv_sq=[2*vel[i]*dvel[i] for i in range(len(vel))]\n",
    "\n",
    "plt.errorbar(v_sq,Drag,xerr=dv_sq,yerr=dDrag,fmt=\"o\",ecolor=\"orange\")\n",
    "plt.xlabel(\"Velocity Squared (m/s)^2\"); _=plt.ylabel(\"Drag Force (N)\")"
   ]
  },
  {
   "cell_type": "code",
   "execution_count": 133,
   "id": "7bb533d1-aaed-4f92-a32b-bcbdcd6775ee",
   "metadata": {},
   "outputs": [
    {
     "data": {
      "image/png": "[encoded data removed]",
      "text/plain": [
       "<Figure size 640x480 with 1 Axes>"
      ]
     },
     "metadata": {},
     "output_type": "display_data"
    }
   ],
   "source": [
    "p,cov=curve_fit(lambda x,A,B:A*x+B,v_sq,Drag)\n",
    "fitA=p[0]; fitB=p[1]\n",
    "plt.plot(v_sq,[fitA*v_sq[i]+fitB for i in range(0,len(time)-1)],label = 'R^2 = 0.2944')\n",
    "plt.plot(v_sq,Drag,\"o\",label='data')\n",
    "plt.title(\"Soccer Ball Drag Has Insignificant Linear Correlation\")\n",
    "plt.xlabel(\"Velocity Squared (m/s)^2\"); _=plt.ylabel(\"Drag Force (N)\")\n",
    "plt.legend()\n",
    "plt.show()"
   ]
  },
  {
   "cell_type": "code",
   "execution_count": 20,
   "id": "c14db5de-b5f7-42e0-9017-831d3c5b219b",
   "metadata": {},
   "outputs": [
    {
     "name": "stdout",
     "output_type": "stream",
     "text": [
      "R^2 = 0.2944372461545447\n"
     ]
    }
   ],
   "source": [
    "def model(v_sq, a, b):\n",
    "    return a * v_sq + b\n",
    "\n",
    "Drag_pred = model(np.array(v_sq), *p)\n",
    "\n",
    "# Calculate R^2\n",
    "ss_res = np.sum((Drag - Drag_pred) ** 2)\n",
    "ss_tot = np.sum((Drag - np.mean(Drag)) ** 2)\n",
    "r_squared = 1 - (ss_res / ss_tot)\n",
    "\n",
    "print(f\"R^2 = {r_squared}\")"
   ]
  },
  {
   "cell_type": "markdown",
   "id": "b92fafe9-e2b2-4da7-a10d-79e5212f3337",
   "metadata": {},
   "source": [
    "This value of $R^2$ is too low for the data to establish any significant result using the linear fit of the drag equation. Thus, we will no longer continue analyzing the drag force of the soccer ball, and switch instead to the beach ball. "
   ]
  },
  {
   "cell_type": "markdown",
   "id": "58b748f0-2b53-4881-a965-53d30d616259",
   "metadata": {},
   "source": [
    "# Beachball"
   ]
  },
  {
   "cell_type": "markdown",
   "id": "2b4883e0-deac-4248-a4b1-35638ae656aa",
   "metadata": {},
   "source": [
    "## Beachball-Initial Measurements\n",
    "\n",
    "We made the following measurements on the beachball:\n",
    "\n",
    "Mass ($m_b$): $0.1522 \\pm 0.0001 \\ (kg)$\n",
    "\n",
    "Circumference: $1.234 \\pm 0.002 \\ (m)$"
   ]
  },
  {
   "cell_type": "code",
   "execution_count": 24,
   "id": "6dd47306-b5b6-4f35-acab-5e1927f87ae7",
   "metadata": {},
   "outputs": [],
   "source": [
    "m_b=0.1522 #kg\n",
    "dm_b=0.0001 #kg\n",
    "circ_b=1.234 #m\n",
    "dcirc_b=0.002 #m\n",
    "r_b=circ_b/2/np.pi; dr_b=dcirc_b/2/np.pi\n",
    "\n",
    "V_b=4/3*np.pi*(circ_b/(2*np.pi))**3\n",
    "A_b=np.pi*(circ_b/(2*np.pi))**2\n",
    "\n",
    "dA_b=(r_b)*dcirc_b\n",
    "dV_b=4*np.pi*r_b**2*dr_b"
   ]
  },
  {
   "cell_type": "markdown",
   "id": "e44486a7-b612-4dbe-84f6-3054e1f4810d",
   "metadata": {},
   "source": [
    "## Beachball-Trial 1"
   ]
  },
  {
   "cell_type": "code",
   "execution_count": 26,
   "id": "1b4635d2-319d-4806-8b8b-24e26abacbe5",
   "metadata": {},
   "outputs": [
    {
     "data": {
      "text/html": [
       "<div>\n",
       "<style scoped>\n",
       "    .dataframe tbody tr th:only-of-type {\n",
       "        vertical-align: middle;\n",
       "    }\n",
       "\n",
       "    .dataframe tbody tr th {\n",
       "        vertical-align: top;\n",
       "    }\n",
       "\n",
       "    .dataframe thead th {\n",
       "        text-align: right;\n",
       "    }\n",
       "</style>\n",
       "<table border=\"1\" class=\"dataframe\">\n",
       "  <thead>\n",
       "    <tr style=\"text-align: right;\">\n",
       "      <th></th>\n",
       "      <th>Data Set 1:Time(s)</th>\n",
       "      <th>Data Set 1:X-axis acceleration(m/s)</th>\n",
       "      <th>Data Set 1:Y-axis acceleration(m/s)</th>\n",
       "      <th>Data Set 1:Z-axis acceleration(m/s)</th>\n",
       "      <th>Data Set 1:Altitude(m)</th>\n",
       "    </tr>\n",
       "  </thead>\n",
       "  <tbody>\n",
       "    <tr>\n",
       "      <th>0</th>\n",
       "      <td>0.00</td>\n",
       "      <td>0.123158</td>\n",
       "      <td>0.169126</td>\n",
       "      <td>9.765470</td>\n",
       "      <td>26.996113</td>\n",
       "    </tr>\n",
       "    <tr>\n",
       "      <th>1</th>\n",
       "      <td>0.02</td>\n",
       "      <td>0.051332</td>\n",
       "      <td>0.111666</td>\n",
       "      <td>9.813354</td>\n",
       "      <td>NaN</td>\n",
       "    </tr>\n",
       "    <tr>\n",
       "      <th>2</th>\n",
       "      <td>0.04</td>\n",
       "      <td>0.070485</td>\n",
       "      <td>0.025474</td>\n",
       "      <td>9.961794</td>\n",
       "      <td>NaN</td>\n",
       "    </tr>\n",
       "    <tr>\n",
       "      <th>3</th>\n",
       "      <td>0.06</td>\n",
       "      <td>0.185407</td>\n",
       "      <td>0.207434</td>\n",
       "      <td>10.043197</td>\n",
       "      <td>NaN</td>\n",
       "    </tr>\n",
       "    <tr>\n",
       "      <th>4</th>\n",
       "      <td>0.08</td>\n",
       "      <td>0.300329</td>\n",
       "      <td>0.250529</td>\n",
       "      <td>10.138966</td>\n",
       "      <td>NaN</td>\n",
       "    </tr>\n",
       "    <tr>\n",
       "      <th>...</th>\n",
       "      <td>...</td>\n",
       "      <td>...</td>\n",
       "      <td>...</td>\n",
       "      <td>...</td>\n",
       "      <td>...</td>\n",
       "    </tr>\n",
       "    <tr>\n",
       "      <th>590</th>\n",
       "      <td>11.80</td>\n",
       "      <td>5.328152</td>\n",
       "      <td>8.055627</td>\n",
       "      <td>-0.285389</td>\n",
       "      <td>18.086365</td>\n",
       "    </tr>\n",
       "    <tr>\n",
       "      <th>591</th>\n",
       "      <td>11.82</td>\n",
       "      <td>5.174923</td>\n",
       "      <td>8.074780</td>\n",
       "      <td>-0.323696</td>\n",
       "      <td>NaN</td>\n",
       "    </tr>\n",
       "    <tr>\n",
       "      <th>592</th>\n",
       "      <td>11.84</td>\n",
       "      <td>5.280268</td>\n",
       "      <td>8.242374</td>\n",
       "      <td>-0.266236</td>\n",
       "      <td>NaN</td>\n",
       "    </tr>\n",
       "    <tr>\n",
       "      <th>593</th>\n",
       "      <td>11.86</td>\n",
       "      <td>5.280268</td>\n",
       "      <td>8.084357</td>\n",
       "      <td>-0.247082</td>\n",
       "      <td>NaN</td>\n",
       "    </tr>\n",
       "    <tr>\n",
       "      <th>594</th>\n",
       "      <td>11.88</td>\n",
       "      <td>5.285057</td>\n",
       "      <td>8.122664</td>\n",
       "      <td>-0.199198</td>\n",
       "      <td>NaN</td>\n",
       "    </tr>\n",
       "  </tbody>\n",
       "</table>\n",
       "<p>595 rows × 5 columns</p>\n",
       "</div>"
      ],
      "text/plain": [
       "     Data Set 1:Time(s)  Data Set 1:X-axis acceleration(m/s)  \\\n",
       "0                  0.00                             0.123158   \n",
       "1                  0.02                             0.051332   \n",
       "2                  0.04                             0.070485   \n",
       "3                  0.06                             0.185407   \n",
       "4                  0.08                             0.300329   \n",
       "..                  ...                                  ...   \n",
       "590               11.80                             5.328152   \n",
       "591               11.82                             5.174923   \n",
       "592               11.84                             5.280268   \n",
       "593               11.86                             5.280268   \n",
       "594               11.88                             5.285057   \n",
       "\n",
       "     Data Set 1:Y-axis acceleration(m/s)  Data Set 1:Z-axis acceleration(m/s)  \\\n",
       "0                               0.169126                             9.765470   \n",
       "1                               0.111666                             9.813354   \n",
       "2                               0.025474                             9.961794   \n",
       "3                               0.207434                            10.043197   \n",
       "4                               0.250529                            10.138966   \n",
       "..                                   ...                                  ...   \n",
       "590                             8.055627                            -0.285389   \n",
       "591                             8.074780                            -0.323696   \n",
       "592                             8.242374                            -0.266236   \n",
       "593                             8.084357                            -0.247082   \n",
       "594                             8.122664                            -0.199198   \n",
       "\n",
       "     Data Set 1:Altitude(m)  \n",
       "0                 26.996113  \n",
       "1                       NaN  \n",
       "2                       NaN  \n",
       "3                       NaN  \n",
       "4                       NaN  \n",
       "..                      ...  \n",
       "590               18.086365  \n",
       "591                     NaN  \n",
       "592                     NaN  \n",
       "593                     NaN  \n",
       "594                     NaN  \n",
       "\n",
       "[595 rows x 5 columns]"
      ]
     },
     "execution_count": 26,
     "metadata": {},
     "output_type": "execute_result"
    }
   ],
   "source": [
    "alldata_b1=pd.read_excel(\"data/beach/trial1.xlsx\")\n",
    "alldata_b1"
   ]
  },
  {
   "cell_type": "code",
   "execution_count": 27,
   "id": "ddf8ce96-3539-438f-a739-817921713ade",
   "metadata": {},
   "outputs": [],
   "source": [
    "acc_abs_alldata_b1=np.sqrt((alldata_b1[namex])**2+(alldata_b1[namey])**2+(alldata_b1[namez])**2)\n",
    "plt.plot(alldata_b1[namet],acc_abs_alldata_b1,\"o\")\n",
    "plt.xlim([0,7])\n",
    "plt.ylim([0,12])\n",
    "plt.xlabel(\"Time (s)\"); _=plt.ylabel(\"Absolute Acceleration with g (m/s^2)\")"
   ]
  },
  {
   "cell_type": "code",
   "execution_count": 28,
   "id": "bb97c02a-ef22-4fe9-b03d-6b39fa76fdbe",
   "metadata": {},
   "outputs": [],
   "source": [
    "rest_cuts_b1=(alldata_b1[namet]>0.1)&(alldata[namet]<4)\n",
    "mean_rest_xacc_b1=alldata_b1[namex][rest_cuts_b1].mean()\n",
    "mean_rest_yacc_b1=alldata_b1[namey][rest_cuts_b1].mean()\n",
    "mean_rest_zacc_b1=alldata_b1[namez][rest_cuts_b1].mean()\n",
    "\n",
    "mean_rest_xaccerr_b1=alldata_b1[namex][rest_cuts_b1].std()/np.sqrt(len(alldata_b1[namex][rest_cuts_b1]))\n",
    "mean_rest_yaccerr_b1=alldata_b1[namey][rest_cuts_b1].std()/np.sqrt(len(alldata_b1[namey][rest_cuts_b1]))\n",
    "mean_rest_zaccerr_b1=alldata_b1[namez][rest_cuts_b1].std()/np.sqrt(len(alldata_b1[namez][rest_cuts_b1]))\n",
    "\n",
    "t_0_b1=5.35; t_1_b1=6;\n",
    "\n",
    "drop_cuts_b1=(alldata_b1[namet]>t_0_b1)&(alldata_b1[namet]<t_1_b1)\n",
    "data_b1=alldata_b1[drop_cuts_b1]; time_b1=data_b1[namet];\n",
    "xacc_withg_b1=data_b1[namex]; yacc_withg_b1=data_b1[namey]; zacc_withg_b1=data_b1[namez]\n",
    "xacc_b1=[xacc_withg_b1[i]-mean_rest_xacc_b1 for i in range(data_b1.index[0],data_b1.index[-1]+1)]\n",
    "yacc_b1=[yacc_withg_b1[i]-mean_rest_yacc_b1 for i in range(data_b1.index[0],data_b1.index[-1]+1)]\n",
    "zacc_b1=[zacc_withg_b1[i]-mean_rest_zacc_b1 for i in range(data_b1.index[0],data_b1.index[-1]+1)]\n",
    "\n",
    "acc_b1=[np.sqrt(xacc_b1[i]**2+yacc_b1[i]**2+zacc_b1[i]**2) for i in range(len(xacc_b1))]\n",
    "dacc_b1=[np.sqrt(((xacc_b1[i]*mean_rest_xaccerr_b1)**2+(yacc_b1[i]*mean_rest_yaccerr_b1)**2\n",
    "                  +(zacc_b1[i]*mean_rest_zaccerr_b1)**2))/(acc_b1[i]) for i in range(len(acc_b1))]\n",
    "\n",
    "_=plt.errorbar(time_b1,acc_b1,yerr=dacc_b1,fmt=\"o\",ecolor=\"r\")\n",
    "plt.xlabel(\"Time (s)\"); _=plt.ylabel(\"Acceleration (m/s^2)\")"
   ]
  },
  {
   "cell_type": "code",
   "execution_count": 29,
   "id": "76dd2f0c-341f-440b-9abb-b0ca130eab00",
   "metadata": {},
   "outputs": [],
   "source": [
    "vel_b1=[]\n",
    "for i in range(1,len(time_b1)):\n",
    "    a=acc_b1[:i]; t=time_b1[:i] \n",
    "    vel_b1.append(np.trapz(a,t)) \n",
    "\n",
    "_=plt.errorbar(time_b1[1:],vel_b1,fmt=\"o\") \n",
    "_=plt.xlabel(\"Time (s)\"); _=plt.ylabel(\"Velocity (m/s)\");"
   ]
  },
  {
   "cell_type": "markdown",
   "id": "5c7c2e40-1df6-47c8-85ab-77848309ff9c",
   "metadata": {},
   "source": [
    "By Newton's Second Law, $$ma=mg-F_D-F_B \\implies F_D=m(g-a)-F_B=m(g-a)-\\rho_{air}V_{ball}g.$$ We will graph Drag Force vs. Velocity Squared to derive a linear relationship between the two variables. Since the $x$-uncertainty will not be accounted for in the ``curve_fit`` linear regression, we will not account for the error here. The error propagation has been done already earlier. "
   ]
  },
  {
   "cell_type": "code",
   "execution_count": 31,
   "id": "89aeabb3-45b7-4357-9355-5d0a871a0c69",
   "metadata": {},
   "outputs": [],
   "source": [
    "Drag_b1=[m_b*(g-acc_b1[i])-rho_air*V_b*g for i in range(1,len(time_b1))]\n",
    "v_sq_b1=[vel_b1[i]**2 for i in range(0,len(time_b1)-1)]\n",
    "\n",
    "dDrag_b1=[np.sqrt((m_b*dacc_b1[i])**2+(V_b*g*drho_air)**2+(rho_air*g*dV_b)) for i in range(1,len(time_b1))]\n",
    "\n",
    "plt.errorbar(v_sq_b1,Drag_b1,yerr=dDrag_b1,fmt=\"o\",ecolor=\"orange\")\n",
    "plt.xlabel(\"Velocity Squared (m/s)^2\"); _=plt.ylabel(\"Drag Force (N)\")"
   ]
  },
  {
   "cell_type": "markdown",
   "id": "04c99135-81f1-40e6-b682-19b3fed5c20b",
   "metadata": {},
   "source": [
    "The drag equation tells us: $$F_D=\\frac{1}{2}\\rho_{air} v^2c_dA.$$"
   ]
  },
  {
   "cell_type": "code",
   "execution_count": 33,
   "id": "675b93e6-1668-4fff-92fb-0c4664291a05",
   "metadata": {},
   "outputs": [],
   "source": [
    "p_b1,cov_b1=curve_fit(lambda x,A,B:A*x+B,v_sq_b1,Drag_b1,sigma=dDrag_b1,absolute_sigma=True)\n",
    "fitA_b1=p_b1[0]; fitdA_b1=cov_b1[0,0]\n",
    "fitB_b1=p_b1[1]\n",
    "\n",
    "plt.plot(v_sq_b1,Drag_b1,\"o\")\n",
    "plt.plot(v_sq_b1,[fitA_b1*v_sq_b1[i]+fitB_b1 for i in range(0,len(time_b1)-1)],color=\"r\")\n",
    "plt.xlabel(\"Velocity Squared (m/s)^2\"); _=plt.ylabel(\"Drag Force (N)\")"
   ]
  },
  {
   "cell_type": "markdown",
   "id": "63da37b9-a9a6-4c02-af0c-850c95dd2cbe",
   "metadata": {},
   "source": [
    "We justify that a linear fit is appropriate in this case by calculating $R^2$:"
   ]
  },
  {
   "cell_type": "code",
   "execution_count": 35,
   "id": "f7a4723f-daa6-41c0-84a4-73b840632d6d",
   "metadata": {},
   "outputs": [
    {
     "name": "stdout",
     "output_type": "stream",
     "text": [
      "R^2 = 0.9893944718670521\n"
     ]
    }
   ],
   "source": [
    "Drag_pred_b1 = model(np.array(v_sq_b1), *p_b1)\n",
    "\n",
    "# Calculate R^2\n",
    "ss_res_b1 = np.sum((Drag_b1 - Drag_pred_b1) ** 2)\n",
    "ss_tot_b1 = np.sum((Drag_b1 - np.mean(Drag_b1)) ** 2)\n",
    "r_squared_b1 = 1 - (ss_res_b1 / ss_tot_b1)\n",
    "\n",
    "print(f\"R^2 = {r_squared_b1}\")"
   ]
  },
  {
   "cell_type": "markdown",
   "id": "8375f6f8-eb99-4a54-a147-5f2e3ca779d0",
   "metadata": {},
   "source": [
    "We have found the slope $k$ and: $$c_d=2\\frac{k}{\\rho_{air}A},$$ error propagating which we get "
   ]
  },
  {
   "cell_type": "markdown",
   "id": "60104f48-837a-4830-92e5-cbd535432df1",
   "metadata": {},
   "source": [
    "$$dc_d=\\sqrt{(2\\frac{dk}{\\rho_{air}A})^2+(2\\frac{k}{\\rho_{air}^2A}d\\rho_{air})^2+(2\\frac{k \\ dA}{\\rho_{air}A^2})^2}$$"
   ]
  },
  {
   "cell_type": "code",
   "execution_count": 38,
   "id": "5af89edd-527d-4e95-96a3-e8fa660b7891",
   "metadata": {},
   "outputs": [
    {
     "name": "stdout",
     "output_type": "stream",
     "text": [
      "The drag coefficient is 0.51 +/- 0.01\n"
     ]
    }
   ],
   "source": [
    "coeff_b1=2*fitA_b1/A_b/rho_air\n",
    "dcoeff_b1=np.sqrt((2*fitdA_b1/A_b/rho_air)**2+(2*fitA_b1/A_b/(rho_air**2)*drho_air)**2\n",
    "                 +(2*fitA_b1*dA_b/rho_air/(A_b**2))**2)\n",
    "print(\"The drag coefficient is %2.2f +/- %2.2f\" % (coeff_b1,dcoeff_b1))"
   ]
  },
  {
   "cell_type": "markdown",
   "id": "1231c95a-9a2a-4db7-847d-0ef5bd023c7f",
   "metadata": {},
   "source": [
    "# Beachball Trial 2"
   ]
  },
  {
   "cell_type": "code",
   "execution_count": 40,
   "id": "6c0bf178-ae3c-45a7-b50d-a34c0544b066",
   "metadata": {},
   "outputs": [
    {
     "data": {
      "text/html": [
       "<div>\n",
       "<style scoped>\n",
       "    .dataframe tbody tr th:only-of-type {\n",
       "        vertical-align: middle;\n",
       "    }\n",
       "\n",
       "    .dataframe tbody tr th {\n",
       "        vertical-align: top;\n",
       "    }\n",
       "\n",
       "    .dataframe thead th {\n",
       "        text-align: right;\n",
       "    }\n",
       "</style>\n",
       "<table border=\"1\" class=\"dataframe\">\n",
       "  <thead>\n",
       "    <tr style=\"text-align: right;\">\n",
       "      <th></th>\n",
       "      <th>Data Set 1:Time(s)</th>\n",
       "      <th>Data Set 1:X-axis acceleration(m/s)</th>\n",
       "      <th>Data Set 1:Y-axis acceleration(m/s)</th>\n",
       "      <th>Data Set 1:Z-axis acceleration(m/s)</th>\n",
       "      <th>Data Set 1:Altitude(m)</th>\n",
       "    </tr>\n",
       "  </thead>\n",
       "  <tbody>\n",
       "    <tr>\n",
       "      <th>0</th>\n",
       "      <td>0.00</td>\n",
       "      <td>0.357790</td>\n",
       "      <td>1.141172</td>\n",
       "      <td>9.731951</td>\n",
       "      <td>25.215219</td>\n",
       "    </tr>\n",
       "    <tr>\n",
       "      <th>1</th>\n",
       "      <td>0.02</td>\n",
       "      <td>0.353001</td>\n",
       "      <td>1.059769</td>\n",
       "      <td>9.846872</td>\n",
       "      <td>NaN</td>\n",
       "    </tr>\n",
       "    <tr>\n",
       "      <th>2</th>\n",
       "      <td>0.04</td>\n",
       "      <td>0.386520</td>\n",
       "      <td>1.093288</td>\n",
       "      <td>9.980947</td>\n",
       "      <td>NaN</td>\n",
       "    </tr>\n",
       "    <tr>\n",
       "      <th>3</th>\n",
       "      <td>0.06</td>\n",
       "      <td>0.410462</td>\n",
       "      <td>1.050193</td>\n",
       "      <td>9.832507</td>\n",
       "      <td>NaN</td>\n",
       "    </tr>\n",
       "    <tr>\n",
       "      <th>4</th>\n",
       "      <td>0.08</td>\n",
       "      <td>0.453558</td>\n",
       "      <td>1.074135</td>\n",
       "      <td>9.741528</td>\n",
       "      <td>NaN</td>\n",
       "    </tr>\n",
       "    <tr>\n",
       "      <th>...</th>\n",
       "      <td>...</td>\n",
       "      <td>...</td>\n",
       "      <td>...</td>\n",
       "      <td>...</td>\n",
       "      <td>...</td>\n",
       "    </tr>\n",
       "    <tr>\n",
       "      <th>640</th>\n",
       "      <td>12.80</td>\n",
       "      <td>8.081484</td>\n",
       "      <td>-8.066927</td>\n",
       "      <td>-30.509790</td>\n",
       "      <td>21.267662</td>\n",
       "    </tr>\n",
       "    <tr>\n",
       "      <th>641</th>\n",
       "      <td>12.82</td>\n",
       "      <td>8.282597</td>\n",
       "      <td>-9.019819</td>\n",
       "      <td>-28.120378</td>\n",
       "      <td>NaN</td>\n",
       "    </tr>\n",
       "    <tr>\n",
       "      <th>642</th>\n",
       "      <td>12.84</td>\n",
       "      <td>7.085496</td>\n",
       "      <td>-8.713362</td>\n",
       "      <td>-26.497108</td>\n",
       "      <td>NaN</td>\n",
       "    </tr>\n",
       "    <tr>\n",
       "      <th>643</th>\n",
       "      <td>12.86</td>\n",
       "      <td>5.744743</td>\n",
       "      <td>-6.467601</td>\n",
       "      <td>-26.564146</td>\n",
       "      <td>NaN</td>\n",
       "    </tr>\n",
       "    <tr>\n",
       "      <th>644</th>\n",
       "      <td>12.88</td>\n",
       "      <td>4.662564</td>\n",
       "      <td>-3.752576</td>\n",
       "      <td>-27.445213</td>\n",
       "      <td>NaN</td>\n",
       "    </tr>\n",
       "  </tbody>\n",
       "</table>\n",
       "<p>645 rows × 5 columns</p>\n",
       "</div>"
      ],
      "text/plain": [
       "     Data Set 1:Time(s)  Data Set 1:X-axis acceleration(m/s)  \\\n",
       "0                  0.00                             0.357790   \n",
       "1                  0.02                             0.353001   \n",
       "2                  0.04                             0.386520   \n",
       "3                  0.06                             0.410462   \n",
       "4                  0.08                             0.453558   \n",
       "..                  ...                                  ...   \n",
       "640               12.80                             8.081484   \n",
       "641               12.82                             8.282597   \n",
       "642               12.84                             7.085496   \n",
       "643               12.86                             5.744743   \n",
       "644               12.88                             4.662564   \n",
       "\n",
       "     Data Set 1:Y-axis acceleration(m/s)  Data Set 1:Z-axis acceleration(m/s)  \\\n",
       "0                               1.141172                             9.731951   \n",
       "1                               1.059769                             9.846872   \n",
       "2                               1.093288                             9.980947   \n",
       "3                               1.050193                             9.832507   \n",
       "4                               1.074135                             9.741528   \n",
       "..                                   ...                                  ...   \n",
       "640                            -8.066927                           -30.509790   \n",
       "641                            -9.019819                           -28.120378   \n",
       "642                            -8.713362                           -26.497108   \n",
       "643                            -6.467601                           -26.564146   \n",
       "644                            -3.752576                           -27.445213   \n",
       "\n",
       "     Data Set 1:Altitude(m)  \n",
       "0                 25.215219  \n",
       "1                       NaN  \n",
       "2                       NaN  \n",
       "3                       NaN  \n",
       "4                       NaN  \n",
       "..                      ...  \n",
       "640               21.267662  \n",
       "641                     NaN  \n",
       "642                     NaN  \n",
       "643                     NaN  \n",
       "644                     NaN  \n",
       "\n",
       "[645 rows x 5 columns]"
      ]
     },
     "execution_count": 40,
     "metadata": {},
     "output_type": "execute_result"
    }
   ],
   "source": [
    "alldata_b2=pd.read_excel(\"data/beach/trial2.xlsx\")\n",
    "alldata_b2"
   ]
  },
  {
   "cell_type": "code",
   "execution_count": 41,
   "id": "2d7f9df3-5e12-449f-8d02-bf529ca12631",
   "metadata": {},
   "outputs": [],
   "source": [
    "acc_abs_alldata_b2=np.sqrt((alldata_b2[namex])**2+(alldata_b2[namey])**2+(alldata_b2[namez])**2)\n",
    "plt.plot(alldata_b2[namet],acc_abs_alldata_b2,\"o\")\n",
    "plt.xlim([10.5,10.8])\n",
    "plt.ylim([0,12])\n",
    "plt.xlabel(\"Time (s)\"); _=plt.ylabel(\"Absolute Acceleration with g (m/s^2)\")"
   ]
  },
  {
   "cell_type": "code",
   "execution_count": 42,
   "id": "90f3c6d5-a42d-4e26-bf41-8345237fd6c0",
   "metadata": {},
   "outputs": [],
   "source": [
    "rest_cuts_b2=(alldata_b2[namet]>8.2)&(alldata[namet]<10)\n",
    "mean_rest_xacc_b2=alldata_b2[namex][rest_cuts_b2].mean()\n",
    "mean_rest_yacc_b2=alldata_b2[namey][rest_cuts_b2].mean()\n",
    "mean_rest_zacc_b2=alldata_b2[namez][rest_cuts_b2].mean()\n",
    "\n",
    "t_0_b2=10.75; t_1_b2=11.5;\n",
    "\n",
    "drop_cuts_b2=(alldata_b2[namet]>t_0_b2)&(alldata_b2[namet]<t_1_b2)\n",
    "data_b2=alldata_b2[drop_cuts_b2]; time_b2=data_b2[namet];\n",
    "xacc_withg_b2=data_b2[namex]; yacc_withg_b2=data_b2[namey]; zacc_withg_b2=data_b2[namez]\n",
    "xacc_b2=[xacc_withg_b2[i]-mean_rest_xacc_b2 for i in range(data_b2.index[0],data_b2.index[-1]+1)]\n",
    "yacc_b2=[yacc_withg_b2[i]-mean_rest_yacc_b2 for i in range(data_b2.index[0],data_b2.index[-1]+1)]\n",
    "zacc_b2=[zacc_withg_b2[i]-mean_rest_zacc_b2 for i in range(data_b2.index[0],data_b2.index[-1]+1)]\n",
    "\n",
    "acc_b2=[np.sqrt(xacc_b2[i]**2+yacc_b2[i]**2+zacc_b2[i]**2) for i in range(len(xacc_b2))]\n",
    "\n",
    "_=plt.plot(time_b2,acc_b2,\"o\"); plt.xlabel(\"Time (s)\"); _=plt.ylabel(\"Acceleration (m/s^2)\")"
   ]
  },
  {
   "cell_type": "code",
   "execution_count": 43,
   "id": "e8bdc3b9-c2ee-4068-b3d8-e18b148b084f",
   "metadata": {},
   "outputs": [],
   "source": [
    "vel_b2=[]\n",
    "for i in range(1,len(time_b2)):\n",
    "    a=acc_b2[:i]; t=time_b2[:i] \n",
    "    vel_b2.append(np.trapz(a,t)) \n",
    "_=plt.plot(time_b2[1:],vel_b2,\"o\") \n",
    "_=plt.xlabel(\"Time (s)\"); _=plt.ylabel(\"Velocity (m/s)\");"
   ]
  },
  {
   "cell_type": "code",
   "execution_count": 44,
   "id": "3154eb1b-45f6-404c-936a-17077a6d60e9",
   "metadata": {},
   "outputs": [],
   "source": [
    "Drag_b2=[m_b*(g-acc_b2[i])-rho_air*V_b*g for i in range(1,len(time_b2))]\n",
    "v_sq_b2=[vel_b2[i]**2 for i in range(0,len(time_b2)-1)]\n",
    "plt.plot(v_sq_b2,Drag_b2,\"o\")\n",
    "plt.xlabel(\"Velocity Squared (m/s)^2\"); _=plt.ylabel(\"Drag Force (N)\")"
   ]
  },
  {
   "cell_type": "code",
   "execution_count": 45,
   "id": "ab1f90f0-0a2d-4771-b574-008da2b0e744",
   "metadata": {},
   "outputs": [],
   "source": [
    "p_b2,cov_b2=curve_fit(lambda x,A,B:A*x+B,v_sq_b2,Drag_b2)\n",
    "fitA_b2=p_b2[0]\n",
    "fitB_b2=p_b2[1]\n",
    "\n",
    "plt.plot(v_sq_b2,Drag_b2,\"o\")\n",
    "plt.plot(v_sq_b2,[fitA_b2*v_sq_b2[i]+fitB_b2 for i in range(0,len(time_b2)-1)])\n",
    "plt.xlabel(\"Velocity Squared (m/s)^2\"); _=plt.ylabel(\"Drag Force (N)\")"
   ]
  },
  {
   "cell_type": "code",
   "execution_count": 46,
   "id": "4eaf75d6-1c8b-42cd-9979-17bd3b34ab4c",
   "metadata": {},
   "outputs": [
    {
     "name": "stdout",
     "output_type": "stream",
     "text": [
      "0.4089076134323528\n"
     ]
    }
   ],
   "source": [
    "coeff_b2=2*fitA_b2/A_b/rho_air\n",
    "print(coeff_b2)"
   ]
  },
  {
   "cell_type": "markdown",
   "id": "a92c590d-01b6-427c-8fa9-25cbd3124f04",
   "metadata": {},
   "source": [
    "# Beachball Trial 3"
   ]
  },
  {
   "cell_type": "code",
   "execution_count": 48,
   "id": "d0267a79-ae6b-4732-a3fc-9a628d4e9943",
   "metadata": {},
   "outputs": [
    {
     "data": {
      "text/html": [
       "<div>\n",
       "<style scoped>\n",
       "    .dataframe tbody tr th:only-of-type {\n",
       "        vertical-align: middle;\n",
       "    }\n",
       "\n",
       "    .dataframe tbody tr th {\n",
       "        vertical-align: top;\n",
       "    }\n",
       "\n",
       "    .dataframe thead th {\n",
       "        text-align: right;\n",
       "    }\n",
       "</style>\n",
       "<table border=\"1\" class=\"dataframe\">\n",
       "  <thead>\n",
       "    <tr style=\"text-align: right;\">\n",
       "      <th></th>\n",
       "      <th>Data Set 1:Time(s)</th>\n",
       "      <th>Data Set 1:X-axis acceleration(m/s)</th>\n",
       "      <th>Data Set 1:Y-axis acceleration(m/s)</th>\n",
       "      <th>Data Set 1:Z-axis acceleration(m/s)</th>\n",
       "      <th>Data Set 1:Altitude(m)</th>\n",
       "    </tr>\n",
       "  </thead>\n",
       "  <tbody>\n",
       "    <tr>\n",
       "      <th>0</th>\n",
       "      <td>0.00</td>\n",
       "      <td>0.410462</td>\n",
       "      <td>1.160326</td>\n",
       "      <td>9.880391</td>\n",
       "      <td>24.578432</td>\n",
       "    </tr>\n",
       "    <tr>\n",
       "      <th>1</th>\n",
       "      <td>0.02</td>\n",
       "      <td>0.410462</td>\n",
       "      <td>1.169903</td>\n",
       "      <td>9.765470</td>\n",
       "      <td>NaN</td>\n",
       "    </tr>\n",
       "    <tr>\n",
       "      <th>2</th>\n",
       "      <td>0.04</td>\n",
       "      <td>0.491865</td>\n",
       "      <td>1.112442</td>\n",
       "      <td>9.794200</td>\n",
       "      <td>NaN</td>\n",
       "    </tr>\n",
       "    <tr>\n",
       "      <th>3</th>\n",
       "      <td>0.06</td>\n",
       "      <td>0.501442</td>\n",
       "      <td>1.011885</td>\n",
       "      <td>9.990524</td>\n",
       "      <td>NaN</td>\n",
       "    </tr>\n",
       "    <tr>\n",
       "      <th>4</th>\n",
       "      <td>0.08</td>\n",
       "      <td>0.606786</td>\n",
       "      <td>1.007097</td>\n",
       "      <td>9.942640</td>\n",
       "      <td>NaN</td>\n",
       "    </tr>\n",
       "    <tr>\n",
       "      <th>...</th>\n",
       "      <td>...</td>\n",
       "      <td>...</td>\n",
       "      <td>...</td>\n",
       "      <td>...</td>\n",
       "      <td>...</td>\n",
       "    </tr>\n",
       "    <tr>\n",
       "      <th>230</th>\n",
       "      <td>4.60</td>\n",
       "      <td>-5.531947</td>\n",
       "      <td>-2.158037</td>\n",
       "      <td>12.063903</td>\n",
       "      <td>21.777622</td>\n",
       "    </tr>\n",
       "    <tr>\n",
       "      <th>231</th>\n",
       "      <td>4.62</td>\n",
       "      <td>11.433367</td>\n",
       "      <td>4.651072</td>\n",
       "      <td>6.734410</td>\n",
       "      <td>NaN</td>\n",
       "    </tr>\n",
       "    <tr>\n",
       "      <th>232</th>\n",
       "      <td>4.64</td>\n",
       "      <td>-2.328505</td>\n",
       "      <td>-1.157261</td>\n",
       "      <td>-14.473429</td>\n",
       "      <td>NaN</td>\n",
       "    </tr>\n",
       "    <tr>\n",
       "      <th>233</th>\n",
       "      <td>4.66</td>\n",
       "      <td>1.511795</td>\n",
       "      <td>-1.564276</td>\n",
       "      <td>6.207686</td>\n",
       "      <td>NaN</td>\n",
       "    </tr>\n",
       "    <tr>\n",
       "      <th>234</th>\n",
       "      <td>4.68</td>\n",
       "      <td>-1.849664</td>\n",
       "      <td>-2.062269</td>\n",
       "      <td>-8.143159</td>\n",
       "      <td>NaN</td>\n",
       "    </tr>\n",
       "  </tbody>\n",
       "</table>\n",
       "<p>235 rows × 5 columns</p>\n",
       "</div>"
      ],
      "text/plain": [
       "     Data Set 1:Time(s)  Data Set 1:X-axis acceleration(m/s)  \\\n",
       "0                  0.00                             0.410462   \n",
       "1                  0.02                             0.410462   \n",
       "2                  0.04                             0.491865   \n",
       "3                  0.06                             0.501442   \n",
       "4                  0.08                             0.606786   \n",
       "..                  ...                                  ...   \n",
       "230                4.60                            -5.531947   \n",
       "231                4.62                            11.433367   \n",
       "232                4.64                            -2.328505   \n",
       "233                4.66                             1.511795   \n",
       "234                4.68                            -1.849664   \n",
       "\n",
       "     Data Set 1:Y-axis acceleration(m/s)  Data Set 1:Z-axis acceleration(m/s)  \\\n",
       "0                               1.160326                             9.880391   \n",
       "1                               1.169903                             9.765470   \n",
       "2                               1.112442                             9.794200   \n",
       "3                               1.011885                             9.990524   \n",
       "4                               1.007097                             9.942640   \n",
       "..                                   ...                                  ...   \n",
       "230                            -2.158037                            12.063903   \n",
       "231                             4.651072                             6.734410   \n",
       "232                            -1.157261                           -14.473429   \n",
       "233                            -1.564276                             6.207686   \n",
       "234                            -2.062269                            -8.143159   \n",
       "\n",
       "     Data Set 1:Altitude(m)  \n",
       "0                 24.578432  \n",
       "1                       NaN  \n",
       "2                       NaN  \n",
       "3                       NaN  \n",
       "4                       NaN  \n",
       "..                      ...  \n",
       "230               21.777622  \n",
       "231                     NaN  \n",
       "232                     NaN  \n",
       "233                     NaN  \n",
       "234                     NaN  \n",
       "\n",
       "[235 rows x 5 columns]"
      ]
     },
     "execution_count": 48,
     "metadata": {},
     "output_type": "execute_result"
    }
   ],
   "source": [
    "alldata_b3=pd.read_excel(\"data/beach/trial3.xlsx\")\n",
    "alldata_b3"
   ]
  },
  {
   "cell_type": "code",
   "execution_count": 49,
   "id": "7324f905-60c7-466d-8f7e-1f7d9487a9da",
   "metadata": {},
   "outputs": [],
   "source": [
    "acc_abs_alldata_b3=np.sqrt((alldata_b3[namex])**2+(alldata_b3[namey])**2+(alldata_b3[namez])**2)\n",
    "plt.plot(alldata_b3[namet],acc_abs_alldata_b3,\"o\")\n",
    "plt.xlim([2,5])\n",
    "plt.ylim([0,12])\n",
    "plt.xlabel(\"Time (s)\"); _=plt.ylabel(\"Absolute Acceleration with g (m/s^2)\")"
   ]
  },
  {
   "cell_type": "code",
   "execution_count": 50,
   "id": "4454db7d-0a32-4f02-86c2-7fa2307d70f8",
   "metadata": {},
   "outputs": [],
   "source": [
    "rest_cuts_b3=(alldata_b3[namet]>1.)&(alldata[namet]<2)\n",
    "mean_rest_xacc_b3=alldata_b3[namex][rest_cuts_b3].mean()\n",
    "mean_rest_yacc_b3=alldata_b3[namey][rest_cuts_b3].mean()\n",
    "mean_rest_zacc_b3=alldata_b3[namez][rest_cuts_b3].mean()\n",
    "\n",
    "t_0_b3=2.7; t_1_b3=3.3;\n",
    "\n",
    "drop_cuts_b3=(alldata_b3[namet]>t_0_b3)&(alldata_b3[namet]<t_1_b3)\n",
    "data_b3=alldata_b3[drop_cuts_b3]; time_b3=data_b3[namet];\n",
    "xacc_withg_b3=data_b3[namex]; yacc_withg_b3=data_b3[namey]; zacc_withg_b3=data_b3[namez]\n",
    "xacc_b3=[xacc_withg_b3[i]-mean_rest_xacc_b3 for i in range(data_b3.index[0],data_b3.index[-1]+1)]\n",
    "yacc_b3=[yacc_withg_b3[i]-mean_rest_yacc_b3 for i in range(data_b3.index[0],data_b3.index[-1]+1)]\n",
    "zacc_b3=[zacc_withg_b3[i]-mean_rest_zacc_b3 for i in range(data_b3.index[0],data_b3.index[-1]+1)]\n",
    "\n",
    "acc_b3=[np.sqrt(xacc_b3[i]**2+yacc_b3[i]**2+zacc_b3[i]**2) for i in range(len(xacc_b3))]\n",
    "\n",
    "_=plt.plot(time_b3,acc_b3,\"o\"); plt.xlabel(\"Time (s)\"); _=plt.ylabel(\"Acceleration (m/s^2)\")"
   ]
  },
  {
   "cell_type": "code",
   "execution_count": 51,
   "id": "bc46bc12-14f4-4819-b14b-67b7c7af0e9e",
   "metadata": {},
   "outputs": [],
   "source": [
    "vel_b3=[]\n",
    "for i in range(1,len(time_b3)):\n",
    "    a=acc_b3[:i]; t=time_b3[:i] \n",
    "    vel_b3.append(np.trapz(a,t)) \n",
    "_=plt.plot(time_b3[1:],vel_b3,\"o\") \n",
    "_=plt.xlabel(\"Time (s)\"); _=plt.ylabel(\"Velocity (m/s)\");"
   ]
  },
  {
   "cell_type": "code",
   "execution_count": 52,
   "id": "53d9c39e-f7df-49db-a070-4e9e917f0699",
   "metadata": {},
   "outputs": [],
   "source": [
    "Drag_b3=[m_b*(g-acc_b3[i])-rho_air*V_b*g for i in range(1,len(time_b3))]\n",
    "v_sq_b3=[vel_b3[i]**2 for i in range(0,len(time_b3)-1)]\n",
    "plt.plot(v_sq_b3,Drag_b3,\"o\")\n",
    "plt.xlabel(\"Velocity Squared (m/s)^2\"); _=plt.ylabel(\"Drag Force (N)\")"
   ]
  },
  {
   "cell_type": "code",
   "execution_count": 53,
   "id": "074c3f4f-67ef-4dc2-bc19-5f46fb31fb65",
   "metadata": {},
   "outputs": [],
   "source": [
    "p_b3,cov_b3=curve_fit(lambda x,A,B:A*x+B,v_sq_b3,Drag_b3)\n",
    "fitA_b3=p_b3[0]\n",
    "fitB_b3=p_b3[1]\n",
    "\n",
    "plt.plot(v_sq_b3,Drag_b3,\"o\")\n",
    "plt.plot(v_sq_b3,[fitA_b3*v_sq_b3[i]+fitB_b3 for i in range(0,len(time_b3)-1)])\n",
    "plt.xlabel(\"Velocity Squared (m/s)^2\"); _=plt.ylabel(\"Drag Force (N)\")"
   ]
  },
  {
   "cell_type": "code",
   "execution_count": 54,
   "id": "487e54ef-44d6-4454-9a03-b872cc0c60e3",
   "metadata": {},
   "outputs": [
    {
     "name": "stdout",
     "output_type": "stream",
     "text": [
      "0.4824914332137864\n"
     ]
    }
   ],
   "source": [
    "coeff_b3=2*fitA_b3/A_b/rho_air\n",
    "print(coeff_b3)"
   ]
  },
  {
   "cell_type": "markdown",
   "id": "034ee884-7222-4c2a-ab40-820aa2eab1e1",
   "metadata": {},
   "source": [
    "# Beachball Trial 4"
   ]
  },
  {
   "cell_type": "code",
   "execution_count": 56,
   "id": "540e9fdf-58a7-467a-b6bb-7bee065236b2",
   "metadata": {},
   "outputs": [
    {
     "data": {
      "text/html": [
       "<div>\n",
       "<style scoped>\n",
       "    .dataframe tbody tr th:only-of-type {\n",
       "        vertical-align: middle;\n",
       "    }\n",
       "\n",
       "    .dataframe tbody tr th {\n",
       "        vertical-align: top;\n",
       "    }\n",
       "\n",
       "    .dataframe thead th {\n",
       "        text-align: right;\n",
       "    }\n",
       "</style>\n",
       "<table border=\"1\" class=\"dataframe\">\n",
       "  <thead>\n",
       "    <tr style=\"text-align: right;\">\n",
       "      <th></th>\n",
       "      <th>Data Set 1:Time(s)</th>\n",
       "      <th>Data Set 1:X-axis acceleration(m/s)</th>\n",
       "      <th>Data Set 1:Y-axis acceleration(m/s)</th>\n",
       "      <th>Data Set 1:Z-axis acceleration(m/s)</th>\n",
       "      <th>Data Set 1:Altitude(m)</th>\n",
       "    </tr>\n",
       "  </thead>\n",
       "  <tbody>\n",
       "    <tr>\n",
       "      <th>0</th>\n",
       "      <td>0.00</td>\n",
       "      <td>0.822265</td>\n",
       "      <td>1.174691</td>\n",
       "      <td>9.822930</td>\n",
       "      <td>24.832090</td>\n",
       "    </tr>\n",
       "    <tr>\n",
       "      <th>1</th>\n",
       "      <td>0.02</td>\n",
       "      <td>0.783957</td>\n",
       "      <td>1.050193</td>\n",
       "      <td>9.813354</td>\n",
       "      <td>NaN</td>\n",
       "    </tr>\n",
       "    <tr>\n",
       "      <th>2</th>\n",
       "      <td>0.04</td>\n",
       "      <td>0.898879</td>\n",
       "      <td>1.002309</td>\n",
       "      <td>9.722374</td>\n",
       "      <td>NaN</td>\n",
       "    </tr>\n",
       "    <tr>\n",
       "      <th>3</th>\n",
       "      <td>0.06</td>\n",
       "      <td>0.779169</td>\n",
       "      <td>1.016674</td>\n",
       "      <td>9.669702</td>\n",
       "      <td>NaN</td>\n",
       "    </tr>\n",
       "    <tr>\n",
       "      <th>4</th>\n",
       "      <td>0.08</td>\n",
       "      <td>0.683401</td>\n",
       "      <td>1.098077</td>\n",
       "      <td>9.674490</td>\n",
       "      <td>NaN</td>\n",
       "    </tr>\n",
       "    <tr>\n",
       "      <th>...</th>\n",
       "      <td>...</td>\n",
       "      <td>...</td>\n",
       "      <td>...</td>\n",
       "      <td>...</td>\n",
       "      <td>...</td>\n",
       "    </tr>\n",
       "    <tr>\n",
       "      <th>190</th>\n",
       "      <td>3.80</td>\n",
       "      <td>-1.868818</td>\n",
       "      <td>-5.366268</td>\n",
       "      <td>-17.921080</td>\n",
       "      <td>22.411768</td>\n",
       "    </tr>\n",
       "    <tr>\n",
       "      <th>191</th>\n",
       "      <td>3.82</td>\n",
       "      <td>-5.761790</td>\n",
       "      <td>-15.182494</td>\n",
       "      <td>-19.534771</td>\n",
       "      <td>NaN</td>\n",
       "    </tr>\n",
       "    <tr>\n",
       "      <th>192</th>\n",
       "      <td>3.84</td>\n",
       "      <td>-122.392929</td>\n",
       "      <td>-3.781306</td>\n",
       "      <td>-157.067291</td>\n",
       "      <td>NaN</td>\n",
       "    </tr>\n",
       "    <tr>\n",
       "      <th>193</th>\n",
       "      <td>3.86</td>\n",
       "      <td>31.017937</td>\n",
       "      <td>-40.896221</td>\n",
       "      <td>99.768303</td>\n",
       "      <td>NaN</td>\n",
       "    </tr>\n",
       "    <tr>\n",
       "      <th>194</th>\n",
       "      <td>3.88</td>\n",
       "      <td>-55.245152</td>\n",
       "      <td>19.356258</td>\n",
       "      <td>-57.262604</td>\n",
       "      <td>NaN</td>\n",
       "    </tr>\n",
       "  </tbody>\n",
       "</table>\n",
       "<p>195 rows × 5 columns</p>\n",
       "</div>"
      ],
      "text/plain": [
       "     Data Set 1:Time(s)  Data Set 1:X-axis acceleration(m/s)  \\\n",
       "0                  0.00                             0.822265   \n",
       "1                  0.02                             0.783957   \n",
       "2                  0.04                             0.898879   \n",
       "3                  0.06                             0.779169   \n",
       "4                  0.08                             0.683401   \n",
       "..                  ...                                  ...   \n",
       "190                3.80                            -1.868818   \n",
       "191                3.82                            -5.761790   \n",
       "192                3.84                          -122.392929   \n",
       "193                3.86                            31.017937   \n",
       "194                3.88                           -55.245152   \n",
       "\n",
       "     Data Set 1:Y-axis acceleration(m/s)  Data Set 1:Z-axis acceleration(m/s)  \\\n",
       "0                               1.174691                             9.822930   \n",
       "1                               1.050193                             9.813354   \n",
       "2                               1.002309                             9.722374   \n",
       "3                               1.016674                             9.669702   \n",
       "4                               1.098077                             9.674490   \n",
       "..                                   ...                                  ...   \n",
       "190                            -5.366268                           -17.921080   \n",
       "191                           -15.182494                           -19.534771   \n",
       "192                            -3.781306                          -157.067291   \n",
       "193                           -40.896221                            99.768303   \n",
       "194                            19.356258                           -57.262604   \n",
       "\n",
       "     Data Set 1:Altitude(m)  \n",
       "0                 24.832090  \n",
       "1                       NaN  \n",
       "2                       NaN  \n",
       "3                       NaN  \n",
       "4                       NaN  \n",
       "..                      ...  \n",
       "190               22.411768  \n",
       "191                     NaN  \n",
       "192                     NaN  \n",
       "193                     NaN  \n",
       "194                     NaN  \n",
       "\n",
       "[195 rows x 5 columns]"
      ]
     },
     "execution_count": 56,
     "metadata": {},
     "output_type": "execute_result"
    }
   ],
   "source": [
    "alldata_b4=pd.read_excel(\"data/beach/trial4.xlsx\")\n",
    "alldata_b4"
   ]
  },
  {
   "cell_type": "code",
   "execution_count": 57,
   "id": "082d8130-c4b3-4dca-b64e-60cabeb21566",
   "metadata": {},
   "outputs": [],
   "source": [
    "acc_abs_alldata_b4=np.sqrt((alldata_b4[namex])**2+(alldata_b4[namey])**2+(alldata_b4[namez])**2)\n",
    "plt.plot(alldata_b4[namet],acc_abs_alldata_b4,\"o\")\n",
    "plt.xlim([0,5])\n",
    "plt.ylim([0,12])\n",
    "plt.xlabel(\"Time (s)\"); _=plt.ylabel(\"Absolute Acceleration with g (m/s^2)\")"
   ]
  },
  {
   "cell_type": "code",
   "execution_count": 58,
   "id": "c8672f37-2822-4a54-9dfb-c00f67b61ee1",
   "metadata": {},
   "outputs": [],
   "source": [
    "rest_cuts_b4=(alldata_b4[namet]>0.5)&(alldata[namet]<1.8)\n",
    "mean_rest_xacc_b4=alldata_b4[namex][rest_cuts_b4].mean()\n",
    "mean_rest_yacc_b4=alldata_b4[namey][rest_cuts_b4].mean()\n",
    "mean_rest_zacc_b4=alldata_b4[namez][rest_cuts_b4].mean()\n",
    "\n",
    "t_0_b4=2.05; t_1_b4=2.7;\n",
    "\n",
    "drop_cuts_b4=(alldata_b4[namet]>t_0_b4)&(alldata_b4[namet]<t_1_b4)\n",
    "data_b4=alldata_b4[drop_cuts_b4]; time_b4=data_b4[namet];\n",
    "xacc_withg_b4=data_b4[namex]; yacc_withg_b4=data_b4[namey]; zacc_withg_b4=data_b4[namez]\n",
    "xacc_b4=[xacc_withg_b4[i]-mean_rest_xacc_b4 for i in range(data_b4.index[0],data_b4.index[-1]+1)]\n",
    "yacc_b4=[yacc_withg_b4[i]-mean_rest_yacc_b4 for i in range(data_b4.index[0],data_b4.index[-1]+1)]\n",
    "zacc_b4=[zacc_withg_b4[i]-mean_rest_zacc_b4 for i in range(data_b4.index[0],data_b4.index[-1]+1)]\n",
    "\n",
    "acc_b4=[np.sqrt(xacc_b4[i]**2+yacc_b4[i]**2+zacc_b4[i]**2) for i in range(len(xacc_b4))]\n",
    "\n",
    "_=plt.plot(time_b4,acc_b4,\"o\"); plt.xlabel(\"Time (s)\"); _=plt.ylabel(\"Acceleration (m/s^2)\")"
   ]
  },
  {
   "cell_type": "code",
   "execution_count": 59,
   "id": "adfe995a-1fd6-4877-9263-65d29a31d7cc",
   "metadata": {},
   "outputs": [],
   "source": [
    "vel_b4=[]\n",
    "for i in range(1,len(time_b4)):\n",
    "    a=acc_b4[:i]; t=time_b4[:i] \n",
    "    vel_b4.append(np.trapz(a,t)) \n",
    "_=plt.plot(time_b4[1:],vel_b4,\"o\") \n",
    "_=plt.xlabel(\"Time (s)\"); _=plt.ylabel(\"Velocity (m/s)\");"
   ]
  },
  {
   "cell_type": "code",
   "execution_count": 60,
   "id": "0f5ec38d-9c5f-448c-b8a3-1a8404b38d89",
   "metadata": {},
   "outputs": [],
   "source": [
    "Drag_b4=[m_b*(g-acc_b4[i])-rho_air*V_b*g for i in range(1,len(time_b4))]\n",
    "v_sq_b4=[vel_b4[i]**2 for i in range(0,len(time_b4)-1)]\n",
    "plt.plot(v_sq_b4,Drag_b4,\"o\")\n",
    "plt.xlabel(\"Velocity Squared (m/s)^2\"); _=plt.ylabel(\"Drag Force (N)\")"
   ]
  },
  {
   "cell_type": "code",
   "execution_count": 61,
   "id": "8a2b5191-2c4a-4720-934e-a154ed91a121",
   "metadata": {},
   "outputs": [],
   "source": [
    "p_b4,cov_b4=curve_fit(lambda x,A,B:A*x+B,v_sq_b4,Drag_b4)\n",
    "fitA_b4=p_b4[0]\n",
    "fitB_b4=p_b4[1]\n",
    "\n",
    "plt.plot(v_sq_b4,Drag_b4,\"o\")\n",
    "plt.plot(v_sq_b4,[fitA_b4*v_sq_b4[i]+fitB_b4 for i in range(0,len(time_b4)-1)])\n",
    "plt.xlabel(\"Velocity Squared (m/s)^2\"); _=plt.ylabel(\"Drag Force (N)\")"
   ]
  },
  {
   "cell_type": "code",
   "execution_count": 62,
   "id": "82f8d662-0e35-4272-b5fd-943b570e45b3",
   "metadata": {},
   "outputs": [
    {
     "name": "stdout",
     "output_type": "stream",
     "text": [
      "0.48547762413116136\n"
     ]
    }
   ],
   "source": [
    "coeff_b4=2*fitA_b4/A_b/rho_air\n",
    "print(coeff_b4)"
   ]
  },
  {
   "cell_type": "markdown",
   "id": "8fd4f1f7-63de-490e-8fbc-2b30f04d578d",
   "metadata": {},
   "source": [
    "# Beachball Trial 5"
   ]
  },
  {
   "cell_type": "code",
   "execution_count": 64,
   "id": "c42df564-0f24-4b8b-9c5b-3df758f5de89",
   "metadata": {},
   "outputs": [
    {
     "data": {
      "text/html": [
       "<div>\n",
       "<style scoped>\n",
       "    .dataframe tbody tr th:only-of-type {\n",
       "        vertical-align: middle;\n",
       "    }\n",
       "\n",
       "    .dataframe tbody tr th {\n",
       "        vertical-align: top;\n",
       "    }\n",
       "\n",
       "    .dataframe thead th {\n",
       "        text-align: right;\n",
       "    }\n",
       "</style>\n",
       "<table border=\"1\" class=\"dataframe\">\n",
       "  <thead>\n",
       "    <tr style=\"text-align: right;\">\n",
       "      <th></th>\n",
       "      <th>Data Set 1:Time(s)</th>\n",
       "      <th>Data Set 1:X-axis acceleration(m/s)</th>\n",
       "      <th>Data Set 1:Y-axis acceleration(m/s)</th>\n",
       "      <th>Data Set 1:Z-axis acceleration(m/s)</th>\n",
       "      <th>Data Set 1:Altitude(m)</th>\n",
       "    </tr>\n",
       "  </thead>\n",
       "  <tbody>\n",
       "    <tr>\n",
       "      <th>0</th>\n",
       "      <td>0.00</td>\n",
       "      <td>0.448769</td>\n",
       "      <td>0.288836</td>\n",
       "      <td>9.880391</td>\n",
       "      <td>24.83209</td>\n",
       "    </tr>\n",
       "    <tr>\n",
       "      <th>1</th>\n",
       "      <td>0.02</td>\n",
       "      <td>0.443981</td>\n",
       "      <td>0.149973</td>\n",
       "      <td>9.846872</td>\n",
       "      <td>NaN</td>\n",
       "    </tr>\n",
       "    <tr>\n",
       "      <th>2</th>\n",
       "      <td>0.04</td>\n",
       "      <td>0.338636</td>\n",
       "      <td>0.087724</td>\n",
       "      <td>9.851661</td>\n",
       "      <td>NaN</td>\n",
       "    </tr>\n",
       "    <tr>\n",
       "      <th>3</th>\n",
       "      <td>0.06</td>\n",
       "      <td>0.367366</td>\n",
       "      <td>0.341509</td>\n",
       "      <td>10.004889</td>\n",
       "      <td>NaN</td>\n",
       "    </tr>\n",
       "    <tr>\n",
       "      <th>4</th>\n",
       "      <td>0.08</td>\n",
       "      <td>0.266810</td>\n",
       "      <td>0.408547</td>\n",
       "      <td>10.158119</td>\n",
       "      <td>NaN</td>\n",
       "    </tr>\n",
       "    <tr>\n",
       "      <th>...</th>\n",
       "      <td>...</td>\n",
       "      <td>...</td>\n",
       "      <td>...</td>\n",
       "      <td>...</td>\n",
       "      <td>...</td>\n",
       "    </tr>\n",
       "    <tr>\n",
       "      <th>185</th>\n",
       "      <td>3.70</td>\n",
       "      <td>2.014577</td>\n",
       "      <td>10.378003</td>\n",
       "      <td>-26.932854</td>\n",
       "      <td>21.52132</td>\n",
       "    </tr>\n",
       "    <tr>\n",
       "      <th>186</th>\n",
       "      <td>3.72</td>\n",
       "      <td>-1.102674</td>\n",
       "      <td>6.915987</td>\n",
       "      <td>-20.214724</td>\n",
       "      <td>NaN</td>\n",
       "    </tr>\n",
       "    <tr>\n",
       "      <th>187</th>\n",
       "      <td>3.74</td>\n",
       "      <td>7.765450</td>\n",
       "      <td>-8.325500</td>\n",
       "      <td>-39.895065</td>\n",
       "      <td>NaN</td>\n",
       "    </tr>\n",
       "    <tr>\n",
       "      <th>188</th>\n",
       "      <td>3.76</td>\n",
       "      <td>6.855653</td>\n",
       "      <td>-4.006361</td>\n",
       "      <td>-21.263384</td>\n",
       "      <td>NaN</td>\n",
       "    </tr>\n",
       "    <tr>\n",
       "      <th>189</th>\n",
       "      <td>3.78</td>\n",
       "      <td>5.591514</td>\n",
       "      <td>-2.747011</td>\n",
       "      <td>-21.703917</td>\n",
       "      <td>NaN</td>\n",
       "    </tr>\n",
       "  </tbody>\n",
       "</table>\n",
       "<p>190 rows × 5 columns</p>\n",
       "</div>"
      ],
      "text/plain": [
       "     Data Set 1:Time(s)  Data Set 1:X-axis acceleration(m/s)  \\\n",
       "0                  0.00                             0.448769   \n",
       "1                  0.02                             0.443981   \n",
       "2                  0.04                             0.338636   \n",
       "3                  0.06                             0.367366   \n",
       "4                  0.08                             0.266810   \n",
       "..                  ...                                  ...   \n",
       "185                3.70                             2.014577   \n",
       "186                3.72                            -1.102674   \n",
       "187                3.74                             7.765450   \n",
       "188                3.76                             6.855653   \n",
       "189                3.78                             5.591514   \n",
       "\n",
       "     Data Set 1:Y-axis acceleration(m/s)  Data Set 1:Z-axis acceleration(m/s)  \\\n",
       "0                               0.288836                             9.880391   \n",
       "1                               0.149973                             9.846872   \n",
       "2                               0.087724                             9.851661   \n",
       "3                               0.341509                            10.004889   \n",
       "4                               0.408547                            10.158119   \n",
       "..                                   ...                                  ...   \n",
       "185                            10.378003                           -26.932854   \n",
       "186                             6.915987                           -20.214724   \n",
       "187                            -8.325500                           -39.895065   \n",
       "188                            -4.006361                           -21.263384   \n",
       "189                            -2.747011                           -21.703917   \n",
       "\n",
       "     Data Set 1:Altitude(m)  \n",
       "0                  24.83209  \n",
       "1                       NaN  \n",
       "2                       NaN  \n",
       "3                       NaN  \n",
       "4                       NaN  \n",
       "..                      ...  \n",
       "185                21.52132  \n",
       "186                     NaN  \n",
       "187                     NaN  \n",
       "188                     NaN  \n",
       "189                     NaN  \n",
       "\n",
       "[190 rows x 5 columns]"
      ]
     },
     "execution_count": 64,
     "metadata": {},
     "output_type": "execute_result"
    }
   ],
   "source": [
    "alldata_b5=pd.read_excel(\"data/beach/trial5.xlsx\")\n",
    "alldata_b5"
   ]
  },
  {
   "cell_type": "code",
   "execution_count": 65,
   "id": "6a8cdf83-7a1e-407b-9a90-326700b9ad65",
   "metadata": {},
   "outputs": [],
   "source": [
    "acc_abs_alldata_b5=np.sqrt((alldata_b5[namex])**2+(alldata_b5[namey])**2+(alldata_b5[namez])**2)\n",
    "plt.plot(alldata_b5[namet],acc_abs_alldata_b5,\"o\")\n",
    "plt.xlim([0,5])\n",
    "plt.ylim([0,12])\n",
    "plt.xlabel(\"Time (s)\"); _=plt.ylabel(\"Absolute Acceleration with g (m/s^2)\")"
   ]
  },
  {
   "cell_type": "code",
   "execution_count": 66,
   "id": "18d9ee16-4d4d-4581-aa78-79e12a8e7761",
   "metadata": {},
   "outputs": [],
   "source": [
    "rest_cuts_b5=(alldata_b5[namet]>0.2)&(alldata[namet]<1.5)\n",
    "mean_rest_xacc_b5=alldata_b5[namex][rest_cuts_b5].mean()\n",
    "mean_rest_yacc_b5=alldata_b5[namey][rest_cuts_b5].mean()\n",
    "mean_rest_zacc_b5=alldata_b5[namez][rest_cuts_b5].mean()\n",
    "\n",
    "t_0_b5=1.8; t_1_b5=2.4;\n",
    "\n",
    "drop_cuts_b5=(alldata_b5[namet]>t_0_b5)&(alldata_b5[namet]<t_1_b5)\n",
    "data_b5=alldata_b5[drop_cuts_b5]; time_b5=data_b5[namet];\n",
    "xacc_withg_b5=data_b5[namex]; yacc_withg_b5=data_b5[namey]; zacc_withg_b5=data_b5[namez]\n",
    "xacc_b5=[xacc_withg_b5[i]-mean_rest_xacc_b5 for i in range(data_b5.index[0],data_b5.index[-1]+1)]\n",
    "yacc_b5=[yacc_withg_b5[i]-mean_rest_yacc_b5 for i in range(data_b5.index[0],data_b5.index[-1]+1)]\n",
    "zacc_b5=[zacc_withg_b5[i]-mean_rest_zacc_b5 for i in range(data_b5.index[0],data_b5.index[-1]+1)]\n",
    "\n",
    "acc_b5=[np.sqrt(xacc_b5[i]**2+yacc_b5[i]**2+zacc_b5[i]**2) for i in range(len(xacc_b5))]\n",
    "\n",
    "_=plt.plot(time_b5,acc_b5,\"o\"); plt.xlabel(\"Time (s)\"); _=plt.ylabel(\"Acceleration (m/s^2)\")"
   ]
  },
  {
   "cell_type": "code",
   "execution_count": 67,
   "id": "c2b0b107-739b-48ed-841a-3a41d3082a2b",
   "metadata": {},
   "outputs": [],
   "source": [
    "vel_b5=[]\n",
    "for i in range(1,len(time_b5)):\n",
    "    a=acc_b5[:i]; t=time_b5[:i] \n",
    "    vel_b5.append(np.trapz(a,t)) \n",
    "_=plt.plot(time_b5[1:],vel_b5,\"o\") \n",
    "_=plt.xlabel(\"Time (s)\"); _=plt.ylabel(\"Velocity (m/s)\");"
   ]
  },
  {
   "cell_type": "code",
   "execution_count": 68,
   "id": "951a4a2f-3b87-4d49-b07c-a58bc1b11719",
   "metadata": {},
   "outputs": [],
   "source": [
    "Drag_b5=[m_b*(g-acc_b5[i])-rho_air*V_b*g for i in range(1,len(time_b5))]\n",
    "v_sq_b5=[vel_b5[i]**2 for i in range(0,len(time_b5)-1)]\n",
    "plt.plot(v_sq_b5,Drag_b5,\"o\")\n",
    "plt.xlabel(\"Velocity Squared (m/s)^2\"); _=plt.ylabel(\"Drag Force (N)\")"
   ]
  },
  {
   "cell_type": "code",
   "execution_count": 135,
   "id": "6dfe2b7e-aeca-4c47-8a5c-642c79dba459",
   "metadata": {},
   "outputs": [
    {
     "data": {
      "image/png": "[encoded data removed]",
      "text/plain": [
       "<Figure size 640x480 with 1 Axes>"
      ]
     },
     "metadata": {},
     "output_type": "display_data"
    }
   ],
   "source": [
    "p_b5,cov_b5=curve_fit(lambda x,A,B:A*x+B,v_sq_b5,Drag_b5)\n",
    "fitA_b5=p_b5[0]\n",
    "fitB_b5=p_b5[1]\n",
    "\n",
    "plt.plot(v_sq_b5,Drag_b5,\"o\")\n",
    "plt.plot(v_sq_b5,[fitA_b5*v_sq_b5[i]+fitB_b5 for i in range(0,len(time_b5)-1)])\n",
    "plt.xlabel(\"Velocity Squared (m/s)^2\"); _=plt.ylabel(\"Drag Force (N)\")\n",
    "plt.show()"
   ]
  },
  {
   "cell_type": "code",
   "execution_count": 70,
   "id": "8812f059-c771-419f-b508-78d851ccc513",
   "metadata": {},
   "outputs": [
    {
     "name": "stdout",
     "output_type": "stream",
     "text": [
      "0.44530487912714367\n"
     ]
    }
   ],
   "source": [
    "coeff_b5=2*fitA_b5/A_b/rho_air\n",
    "print(coeff_b5)"
   ]
  },
  {
   "cell_type": "markdown",
   "id": "db2bde76-5aeb-42c1-bfb0-ecb4f447e7e9",
   "metadata": {},
   "source": [
    "# Final Data"
   ]
  },
  {
   "cell_type": "code",
   "execution_count": 139,
   "id": "5c48561c-b8da-4d2d-8a0e-5d468b488486",
   "metadata": {},
   "outputs": [
    {
     "data": {
      "image/png": "[encoded data removed]",
      "text/plain": [
       "<Figure size 640x480 with 1 Axes>"
      ]
     },
     "metadata": {},
     "output_type": "display_data"
    }
   ],
   "source": [
    "coeff_list = [globals()[f\"coeff_b{i}\"] for i in range(1, 6)]\n",
    "plt.hist(coeff_list, bins=5, edgecolor='black', alpha=0.7)\n",
    "plt.xlabel(\"Measured Drag Coefficient of Trial\")\n",
    "_=plt.ylabel(\"Frequency\")\n",
    "plt.title(\"Measured Drag Coefficient is Near-Uniformly Distributed Around 0.47\")\n",
    "plt.show()"
   ]
  },
  {
   "cell_type": "markdown",
   "id": "95ee9bbb-fde3-408a-9e39-b4dce306ef3e",
   "metadata": {},
   "source": [
    "As the histogram demonstrates, although the number of samples is very limited, we see an approximately normal distribution. We use the mean of these sample to estimate the true value of the drag coefficient. The uncertainty is given by the standard error, and since we do not know the population's standard deviation, we will use the sample's standard deviation to estimate the standard error:\n",
    "$$\\sigma_{\\bar x}\\approx \\frac{\\sigma_{x}}{\\sqrt n}.$$"
   ]
  },
  {
   "cell_type": "code",
   "execution_count": 74,
   "id": "9959c1ac-3285-4c15-aa64-8d3f9965893b",
   "metadata": {},
   "outputs": [
    {
     "name": "stdout",
     "output_type": "stream",
     "text": [
      "The estimated drag coefficient of the beach ball is 0.47 +/- 0.02\n"
     ]
    }
   ],
   "source": [
    "c_d_mean=np.array(coeff_list).mean()\n",
    "c_d_err=np.array(coeff_list).std()/np.sqrt(len(coeff_list))\n",
    "print(\"The estimated drag coefficient of the beach ball is %2.2f +/- %2.2f\" % (c_d_mean,c_d_err))"
   ]
  }
 ],
 "metadata": {
  "kernelspec": {
   "display_name": "Python 3 (ipykernel)",
   "language": "python",
   "name": "python3"
  },
  "language_info": {
   "codemirror_mode": {
    "name": "ipython",
    "version": 3
   },
   "file_extension": ".py",
   "mimetype": "text/x-python",
   "name": "python",
   "nbconvert_exporter": "python",
   "pygments_lexer": "ipython3",
   "version": "3.12.4"
  }
 },
 "nbformat": 4,
 "nbformat_minor": 5
}
